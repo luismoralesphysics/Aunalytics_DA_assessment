{
 "metadata": {
  "language_info": {
   "codemirror_mode": {
    "name": "ipython",
    "version": 3
   },
   "file_extension": ".py",
   "mimetype": "text/x-python",
   "name": "python",
   "nbconvert_exporter": "python",
   "pygments_lexer": "ipython3",
   "version": "3.8.5-final"
  },
  "orig_nbformat": 2,
  "kernelspec": {
   "name": "python3",
   "display_name": "Python 3"
  }
 },
 "nbformat": 4,
 "nbformat_minor": 2,
 "cells": [
  {
   "cell_type": "code",
   "execution_count": 2,
   "metadata": {},
   "outputs": [
    {
     "output_type": "stream",
     "name": "stdout",
     "text": [
      "<class 'pandas.core.frame.DataFrame'>\nRangeIndex: 16281 entries, 0 to 16280\nData columns (total 15 columns):\n #   Column          Non-Null Count  Dtype \n---  ------          --------------  ----- \n 0   age             16281 non-null  int64 \n 1   workclass       16281 non-null  object\n 2   fnlwgt          16281 non-null  int64 \n 3   education       16281 non-null  object\n 4   education-num   16281 non-null  int64 \n 5   marital-status  16281 non-null  object\n 6   occupation      16281 non-null  object\n 7   relationship    16281 non-null  object\n 8   race            16281 non-null  object\n 9   sex             16281 non-null  object\n 10  capital-gain    16281 non-null  int64 \n 11  capital-loss    16281 non-null  int64 \n 12  hours-per-week  16281 non-null  int64 \n 13  native-country  16281 non-null  object\n 14  class           16281 non-null  object\ndtypes: int64(6), object(9)\nmemory usage: 1.9+ MB\n<class 'pandas.core.frame.DataFrame'>\nRangeIndex: 32561 entries, 0 to 32560\nData columns (total 15 columns):\n #   Column          Non-Null Count  Dtype \n---  ------          --------------  ----- \n 0   age             32561 non-null  int64 \n 1   workclass       32561 non-null  object\n 2   fnlwgt          32561 non-null  int64 \n 3   education       32561 non-null  object\n 4   education-num   32561 non-null  int64 \n 5   marital-status  32561 non-null  object\n 6   occupation      32561 non-null  object\n 7   relationship    32561 non-null  object\n 8   race            32561 non-null  object\n 9   sex             32561 non-null  object\n 10  capital-gain    32561 non-null  int64 \n 11  capital-loss    32561 non-null  int64 \n 12  hours-per-week  32561 non-null  int64 \n 13  native-country  32561 non-null  object\n 14  class           32561 non-null  object\ndtypes: int64(6), object(9)\nmemory usage: 3.7+ MB\n"
     ]
    }
   ],
   "source": [
    "import pandas as pd\n",
    "import numpy as np\n",
    "import matplotlib.pyplot as plt\n",
    "from sklearn.linear_model import LogisticRegressionCV\n",
    "\n",
    "\n",
    "#Read in both data sets with pandas \n",
    "df_train = pd.read_csv(\"au_train.csv\")\n",
    "df_test = pd.read_csv(\"au_test.csv\")\n",
    "\n",
    "df_test.info()\n",
    "df_train.info()"
   ]
  },
  {
   "cell_type": "code",
   "execution_count": null,
   "metadata": {},
   "outputs": [],
   "source": []
  }
 ]
}