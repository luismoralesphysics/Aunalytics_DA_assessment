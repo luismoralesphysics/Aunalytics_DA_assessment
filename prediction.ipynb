{
 "metadata": {
  "language_info": {
   "codemirror_mode": {
    "name": "ipython",
    "version": 3
   },
   "file_extension": ".py",
   "mimetype": "text/x-python",
   "name": "python",
   "nbconvert_exporter": "python",
   "pygments_lexer": "ipython3",
   "version": "3.8.5-final"
  },
  "orig_nbformat": 2,
  "kernelspec": {
   "name": "python3",
   "display_name": "Python 3"
  }
 },
 "nbformat": 4,
 "nbformat_minor": 2,
 "cells": [
  {
   "cell_type": "code",
   "execution_count": 30,
   "metadata": {},
   "outputs": [],
   "source": [
    "import pandas as pd\n",
    "import numpy as np\n",
    "import matplotlib.pyplot as plt\n",
    "from sklearn.linear_model import LogisticRegressionCV\n",
    "\n",
    "\n",
    "#Read in both data sets with pandas \n",
    "df_train = pd.read_csv(\"au_train.csv\")\n",
    "df_test = pd.read_csv(\"au_test.csv\")\n",
    "\n",
    "df_train.replace(regex={'\\?':'Other'},inplace=True)\n",
    "df_test.replace(regex={'\\?':'Other'},inplace=True)\n",
    "\n",
    "\n",
    "# df_test.info()\n",
    "# df_train.info()\n",
    "\n",
    "# Expanding the categories into numerical data  0 and 1\n",
    "df_test_2 = pd.get_dummies(data=df_test,drop_first=True)\n",
    "df_train_2 = pd.get_dummies(data=df_train,drop_first=True)\n",
    "\n",
    "# Test data set has a period in the class name and I'm removing it to make the code cleaner.\n",
    "df_test_2.rename( columns={'class_ >50K.': 'class_ >50K'},inplace=True)\n",
    "\n",
    "# Defining the X \n",
    "df_test_X =df_test_2.drop(columns=['class_ >50K'])\n",
    "df_train_X =df_train_2.drop(columns=['class_ >50K'])\n",
    "# df_train_X =df_train_2.drop(columns=['class_ >50K','native-country_ Holand-Netherlands'])\n",
    "\n",
    "# Defining the y \n",
    "df_train_y=df_train_2['class_ >50K']\n",
    "df_test_y=df_test_2['class_ >50K']\n",
    "# df_train_X.drop(columns=['native_country_ Holand-Netherlands'],inplace=True)\n",
    "\n",
    "# Dropping fnlwgt as it is the final weight from the census. \n",
    "# This could \n",
    "df_train_X.drop(columns=['fnlwgt'],inplace=True)\n",
    "df_test_X.drop(columns=['fnlwgt'],inplace=True)\n",
    "\n",
    "# df_train_X.info(verbose=True)\n",
    "# df_test_X.info(verbose=True)\n",
    "\n",
    "# Check for missing Columns after dummy variables\n",
    "#Visually inspected the dummy variables\n",
    "# Found one Column that was missing in the test data set that was in the training set\n",
    "df_test_X['native-country_ Holand-Netherlands']=0\n",
    "\n",
    "# df_test_2.info()\n",
    "# df_train_2.info()\n",
    "# df_test.head()\n",
    "# df_train.head()\n",
    "\n",
    "# Check on the ratio of people who made more and less than 50K \n",
    "# Just a numeric number, I found it was skewed from the visual inspection with plots.\n",
    "# sum(df_train_y)/len(df_train_y)\n",
    "# 1-sum(df_train_y)/len(df_train_y)\n",
    "# sum(df_test_y)/len(df_test_y)\n",
    "# df_test_X.describe()\n"
   ]
  },
  {
   "cell_type": "code",
   "execution_count": 31,
   "metadata": {},
   "outputs": [],
   "source": [
    "# Initial model\n",
    "# Selected Logistic Regression as it is the obvious choise when we have a binary classification\n",
    "lr_train = LogisticRegressionCV()\n",
    "classifier = lr_train.fit(X=df_train_X,y=df_train_y)\n",
    "prediction_train_dataset = lr_train.predict(X=df_train_X)\n",
    "prediction_t_dataset = lr_train.predict(X=df_train_X)"
   ]
  },
  {
   "cell_type": "code",
   "execution_count": 32,
   "metadata": {},
   "outputs": [
    {
     "output_type": "execute_result",
     "data": {
      "text/plain": [
       "0.8523079757992691"
      ]
     },
     "metadata": {},
     "execution_count": 32
    }
   ],
   "source": [
    "# Accuracy score for the trained model using the train data set\n",
    "lr_train.score(X=df_train_X,y=df_train_y)"
   ]
  },
  {
   "cell_type": "code",
   "execution_count": 33,
   "metadata": {},
   "outputs": [
    {
     "output_type": "execute_result",
     "data": {
      "text/plain": [
       "0.8529574350469873"
      ]
     },
     "metadata": {},
     "execution_count": 33
    }
   ],
   "source": [
    "# Accuracy score for the trained model using the test data set\n",
    "lr_train.score(X=df_test_X,y=df_test_y)"
   ]
  },
  {
   "cell_type": "code",
   "execution_count": 34,
   "metadata": {},
   "outputs": [
    {
     "output_type": "execute_result",
     "data": {
      "text/plain": [
       "array([[0.99654089, 0.00345911],\n",
       "       [0.84020651, 0.15979349],\n",
       "       [0.61993181, 0.38006819],\n",
       "       ...,\n",
       "       [0.33234924, 0.66765076],\n",
       "       [0.66468137, 0.33531863],\n",
       "       [0.19565324, 0.80434676]])"
      ]
     },
     "metadata": {},
     "execution_count": 34
    }
   ],
   "source": [
    "lr_train.predict_proba(df_test_X)"
   ]
  }
 ]
}