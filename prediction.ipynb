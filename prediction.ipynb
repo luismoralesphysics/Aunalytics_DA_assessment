{
 "metadata": {
  "language_info": {
   "codemirror_mode": {
    "name": "ipython",
    "version": 3
   },
   "file_extension": ".py",
   "mimetype": "text/x-python",
   "name": "python",
   "nbconvert_exporter": "python",
   "pygments_lexer": "ipython3",
   "version": "3.8.5-final"
  },
  "orig_nbformat": 2,
  "kernelspec": {
   "name": "python3",
   "display_name": "Python 3"
  }
 },
 "nbformat": 4,
 "nbformat_minor": 2,
 "cells": [
  {
   "cell_type": "code",
   "execution_count": 11,
   "metadata": {},
   "outputs": [
    {
     "output_type": "stream",
     "name": "stdout",
     "text": [
      "<class 'pandas.core.frame.DataFrame'>\nRangeIndex: 16281 entries, 0 to 16280\nData columns (total 15 columns):\n #   Column          Non-Null Count  Dtype \n---  ------          --------------  ----- \n 0   age             16281 non-null  int64 \n 1   workclass       16281 non-null  object\n 2   fnlwgt          16281 non-null  int64 \n 3   education       16281 non-null  object\n 4   education-num   16281 non-null  int64 \n 5   marital-status  16281 non-null  object\n 6   occupation      16281 non-null  object\n 7   relationship    16281 non-null  object\n 8   race            16281 non-null  object\n 9   sex             16281 non-null  object\n 10  capital-gain    16281 non-null  int64 \n 11  capital-loss    16281 non-null  int64 \n 12  hours-per-week  16281 non-null  int64 \n 13  native-country  16281 non-null  object\n 14  class           16281 non-null  object\ndtypes: int64(6), object(9)\nmemory usage: 1.9+ MB\n<class 'pandas.core.frame.DataFrame'>\nRangeIndex: 32561 entries, 0 to 32560\nData columns (total 15 columns):\n #   Column          Non-Null Count  Dtype \n---  ------          --------------  ----- \n 0   age             32561 non-null  int64 \n 1   workclass       32561 non-null  object\n 2   fnlwgt          32561 non-null  int64 \n 3   education       32561 non-null  object\n 4   education-num   32561 non-null  int64 \n 5   marital-status  32561 non-null  object\n 6   occupation      32561 non-null  object\n 7   relationship    32561 non-null  object\n 8   race            32561 non-null  object\n 9   sex             32561 non-null  object\n 10  capital-gain    32561 non-null  int64 \n 11  capital-loss    32561 non-null  int64 \n 12  hours-per-week  32561 non-null  int64 \n 13  native-country  32561 non-null  object\n 14  class           32561 non-null  object\ndtypes: int64(6), object(9)\nmemory usage: 3.7+ MB\n"
     ]
    }
   ],
   "source": [
    "import pandas as pd\n",
    "import numpy as np\n",
    "import matplotlib.pyplot as plt\n",
    "from sklearn.linear_model import LogisticRegressionCV\n",
    "\n",
    "\n",
    "#Read in both data sets with pandas \n",
    "df_train = pd.read_csv(\"au_train.csv\")\n",
    "df_test = pd.read_csv(\"au_test.csv\")\n",
    "\n",
    "df_train.replace(regex={'\\?':'Other'},inplace=True)\n",
    "df_test.replace(regex={'\\?':'Other'},inplace=True)\n",
    "\n",
    "\n",
    "# df_test.info()\n",
    "# df_train.info()\n",
    "\n",
    "# Expanding the categories into numerical data  0 and 1\n",
    "df_test_2 = pd.get_dummies(data=df_test,drop_first=True)\n",
    "df_train_2 = pd.get_dummies(data=df_train,drop_first=True)\n",
    "\n",
    "# Test data set has a period in the class name and I'm removing it to make the code cleaner.\n",
    "df_test_2.rename( columns={'class_ >50K.': 'class_ >50K'},inplace=True)\n",
    "\n",
    "# Defining the X \n",
    "df_test_X =df_test_2.drop(columns=['class_ >50K'])\n",
    "df_train_X =df_train_2.drop(columns=['class_ >50K'])\n",
    "# df_train_X =df_train_2.drop(columns=['class_ >50K','native-country_ Holand-Netherlands'])\n",
    "\n",
    "# Defining the y \n",
    "df_train_y=df_train_2['class_ >50K']\n",
    "df_test_y=df_test_2['class_ >50K']\n",
    "# df_train_X.drop(columns=['native_country_ Holand-Netherlands'],inplace=True)\n",
    "\n",
    "# Dropping fnlwgt as it is the final weight from the census. \n",
    "# This could \n",
    "df_train_X.drop(columns=['fnlwgt'],inplace=True)\n",
    "df_test_X.drop(columns=['fnlwgt'],inplace=True)\n",
    "\n",
    "# df_train_X.info(verbose=True)\n",
    "# df_test_X.info(verbose=True)\n",
    "\n",
    "# Check for missing Columns after dummy variables\n",
    "#Visually inspected the dummy variables\n",
    "# Found one Column that was missing in the test data set that was in the training set\n",
    "df_test_X['native-country_ Holand-Netherlands']=0\n",
    "\n",
    "# df_test_2.info()\n",
    "# df_train_2.info()\n",
    "# df_test.head()\n",
    "# df_train.head()\n",
    "\n",
    "# Check on the ratio of people who made more and less than 50K \n",
    "# Just a numeric number, I found it was skewed from the visual inspection with plots.\n",
    "# sum(df_train_y)/len(df_train_y)\n",
    "# 1-sum(df_train_y)/len(df_train_y)\n",
    "# sum(df_test_y)/len(df_test_y)\n",
    "# df_test_X.describe()\n"
   ]
  },
  {
   "cell_type": "code",
   "execution_count": null,
   "metadata": {},
   "outputs": [],
   "source": []
  }
 ]
}